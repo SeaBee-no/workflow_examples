{
 "cells": [
  {
   "cell_type": "code",
   "execution_count": null,
   "id": "27c44bc7-58dc-49ca-a0a3-05fcbfffeff7",
   "metadata": {},
   "outputs": [],
   "source": [
    "import datetime as dt\n",
    "import json\n",
    "import os\n",
    "import subprocess\n",
    "import time\n",
    "from glob import glob\n",
    "\n",
    "import requests\n",
    "from config import SETTINGS\n",
    "from geo.Geoserver import Geoserver\n",
    "from tqdm.notebook import tqdm"
   ]
  },
  {
   "cell_type": "markdown",
   "id": "8e6ca7df-b1ae-4645-80c0-3844230b8e54",
   "metadata": {},
   "source": [
    "# Upload NIVA datasets\n",
    "\n",
    "Files within the `niva` bucket are arranged in a fairly complex hierarchy. This can probably be simplified, but it's going to take a while.\n",
    "\n",
    "This notebook searches a \"mission\" folder for orthomosaics with user-specified names. For example, Hege sent me a list of mosaic names for the Kelpmap project (which I hadn't previously found because they're quite deeply buried). The orginal file names are generally not very helpful, so in this notebook the user must specify more suitable names for each file. This is done manually. The code then performs the following operations:\n",
    "\n",
    " 1. Finds the files on MinIO\n",
    " 2. Builds 3-band COGs for all datasets\n",
    " 3. Uploads the files to GeoServer\n",
    " 4. Publishes them to GeoNode\n",
    " 5. Updates the basic metadata by extracting information from the user-specified file names\n",
    " \n",
    "## 1. Find files"
   ]
  },
  {
   "cell_type": "code",
   "execution_count": null,
   "id": "d63475b6-4692-461a-addc-2d9967edae54",
   "metadata": {},
   "outputs": [],
   "source": [
    "def find_file_by_name(fname, parent_folder):\n",
    "    result = []\n",
    "    for root, dirs, files in os.walk(parent_folder):\n",
    "        if fname in files:\n",
    "            result.append(os.path.join(root, fname))\n",
    "    return result"
   ]
  },
  {
   "cell_type": "code",
   "execution_count": null,
   "id": "361e4f9f-832f-4f2d-8342-0952bdebc810",
   "metadata": {},
   "outputs": [],
   "source": [
    "# Mission folder to search\n",
    "base_dir = r\"/home/notebook/shared-seabee-ns9879k/niva/2022/2022-08-18_KELPMAP_Vega/\"\n",
    "\n",
    "# Input files to search for, mapped to more helpful output file names:\n",
    "#     project_region_area_org_spec_date-time.tif\n",
    "fnames_dict = {\n",
    "    \"KelpMap_N_20220819_MS_comp.tif\": \"KELPMAP_Vega_North_Spectrofly_MS_20220819-0000.tif\",\n",
    "    \"20220819_1230_RGB_120m_transparent_mosaic_group1.tif\": \"KELPMAP_Vega_North_Spectrofly_RGB_20220819-1230.tif\",\n",
    "    \"KelpMap_S_20220818_MS_v2.tif\": \"KELPMAP_Vega_South_Spectrofly_MS_20220818-0000.tif\",\n",
    "    \"1055rgb120_transparent_mosaic_group1.tif\": \"KELPMAP_Vega_North_NIVA_RGB_20220818-1055.tif\",\n",
    "    \"0944_ms_120_composite.tif\": \"KELPMAP_Vega_North_NIVA_MS_20220819-0944.tif\",\n",
    "    \"0814_rgb_115_transparent_mosaic_group1.tif\": \"KELPMAP_Vega_South_NIVA_RGB_20220819-0814.tif\",\n",
    "    \"0814_ms_115_composite.tif\": \"KELPMAP_Vega_South_NIVA_MS_20220819-0814.tif\",\n",
    "    \"1012_rgb_60_transparent_mosaic_group1.tif\": \"KELPMAP_Vega_South_NIVA_RGB_20220819-1012.tif\",\n",
    "}\n",
    "\n",
    "cog_fold = r\"/home/notebook/cogs/\"\n",
    "n_threads = 4"
   ]
  },
  {
   "cell_type": "code",
   "execution_count": null,
   "id": "6f664aca-7d9c-4e00-80c4-ad2fd4b97851",
   "metadata": {},
   "outputs": [],
   "source": [
    "# Check output names are unique\n",
    "assert len(set(fnames_dict.values())) == len(fnames_dict.values())"
   ]
  },
  {
   "cell_type": "code",
   "execution_count": null,
   "id": "316a4318-e93e-4a46-b522-b8ad1c65270f",
   "metadata": {},
   "outputs": [],
   "source": [
    "flist = []\n",
    "for fname in fnames_dict.keys():\n",
    "    fpaths = find_file_by_name(fname, base_dir)\n",
    "    if len(fpaths) > 1:\n",
    "        print(fpaths)\n",
    "    elif len(fpaths) == 0:\n",
    "        print(\"Could not find:\", fname)\n",
    "    else:\n",
    "        flist.append(fpaths[0])\n",
    "# flist"
   ]
  },
  {
   "cell_type": "markdown",
   "id": "55450a1f-ed01-4be5-8a84-63186a6a3c6a",
   "metadata": {},
   "source": [
    "## 2. Convert to COGs"
   ]
  },
  {
   "cell_type": "code",
   "execution_count": null,
   "id": "c32fcd90-2b48-43f7-b2f6-7bfc7fedf0ab",
   "metadata": {},
   "outputs": [],
   "source": [
    "for fpath in flist:\n",
    "    fname = os.path.basename(fpath)\n",
    "    cog_path = os.path.join(cog_fold, fnames_dict[fname])\n",
    "    cmd = [\n",
    "        \"gdal_translate\",\n",
    "        \"-b\",\n",
    "        \"1\",\n",
    "        \"-b\",\n",
    "        \"2\",\n",
    "        \"-b\",\n",
    "        \"3\",\n",
    "        \"-of\",\n",
    "        \"COG\",\n",
    "        \"-ot\",\n",
    "        \"Byte\",\n",
    "        \"-co\",\n",
    "        \"COMPRESS=LZW\",\n",
    "        \"-co\",\n",
    "        \"PREDICTOR=2\",\n",
    "        \"-co\",\n",
    "        f\"NUM_THREADS={n_threads}\",\n",
    "        \"-co\",\n",
    "        \"OVERVIEWS=IGNORE_EXISTING\",\n",
    "        \"-co\",\n",
    "        \"BIGTIFF=YES\",\n",
    "        \"-scale\",\n",
    "        \"-a_nodata\",\n",
    "        \"0\",\n",
    "        fpath,\n",
    "        cog_path,\n",
    "    ]\n",
    "    subprocess.check_call(cmd)"
   ]
  },
  {
   "cell_type": "markdown",
   "id": "c2dba7c1-abe6-4866-bec8-5f6b8067304f",
   "metadata": {},
   "source": [
    "## 3. Upload to GeoServer"
   ]
  },
  {
   "cell_type": "code",
   "execution_count": null,
   "id": "b173dc35-d746-449e-9cfc-cc16fa8fcb8a",
   "metadata": {},
   "outputs": [],
   "source": [
    "# Authernticate with GeoServer\n",
    "geo = Geoserver(\n",
    "    \"https://geonode.seabee.sigma2.no/geoserver\",\n",
    "    username=SETTINGS.GEOSERVER_USER,\n",
    "    password=SETTINGS.GEOSERVER_PASSWORD,\n",
    ")"
   ]
  },
  {
   "cell_type": "code",
   "execution_count": null,
   "id": "34c1abc4-b853-4297-bc61-02770dcf2e81",
   "metadata": {},
   "outputs": [],
   "source": [
    "# Upload COGs to GeoServer\n",
    "workspace = \"geonode\"\n",
    "\n",
    "search_path = os.path.join(cog_fold, \"*.tif\")\n",
    "flist = glob(search_path)\n",
    "for fpath in tqdm(flist):\n",
    "    fname = os.path.basename(fpath)\n",
    "    layer_name = os.path.splitext(fname)[0]\n",
    "\n",
    "    # Add to GeoServer. Note: Will overwrite layer if it exists\n",
    "    status = geo.create_coveragestore(\n",
    "        layer_name=layer_name, path=fpath, workspace=workspace\n",
    "    )\n",
    "    # print(status)"
   ]
  },
  {
   "cell_type": "markdown",
   "id": "11704b3a-24e9-43b0-a930-65182cc553f6",
   "metadata": {},
   "source": [
    "## 4. Update GeoNode\n",
    "\n",
    "Trigger the `updatelayers` command for each new layer via the GeoNode API.\n",
    "\n",
    "Alternatively, this can be done manually by logging in to the GeoNode administration panel and navigatinge to\n",
    "\n",
    "    Home > Management Commands Over HTTP > Management command jobs\n",
    "    \n",
    "Choose `Add management command job` and set the **Command** to `updatelayers`. Check the **Autostart** box and click **Save**. If you have added a lot of data, the update process may take a while. When it is finished, the status should be updated and the new images datasets be visible in GeoNode."
   ]
  },
  {
   "cell_type": "code",
   "execution_count": null,
   "id": "115953b2-6f58-4990-88d6-1b8e97889491",
   "metadata": {},
   "outputs": [],
   "source": [
    "base_url = \"https://geonode.seabee.sigma2.no/api/v2/\"\n",
    "cmd_url = base_url + r\"management/commands/\"\n",
    "status_url = base_url + r\"management/jobs/\"\n",
    "\n",
    "headers = {\"Content-Type\": \"application/json\"}\n",
    "auth = (SETTINGS.GEOSERVER_USER, SETTINGS.GEONODE_PASSWORD)\n",
    "\n",
    "wait = 10  # seconds\n",
    "\n",
    "search_path = os.path.join(cog_fold, \"*.tif\")\n",
    "flist = glob(search_path)\n",
    "for fpath in tqdm(flist):\n",
    "    fname = os.path.basename(fpath)\n",
    "    layer_name = os.path.splitext(fname)[0]\n",
    "\n",
    "    # Update layer\n",
    "    command = \"updatelayers\"\n",
    "    kwargs = {\"filter\": layer_name, \"store\": layer_name, \"workspace\": \"geonode\"}\n",
    "    response = requests.post(\n",
    "        cmd_url,\n",
    "        headers=headers,\n",
    "        auth=auth,\n",
    "        data=json.dumps({\"command\": command, \"kwargs\": kwargs}),\n",
    "    )\n",
    "    response.raise_for_status()\n",
    "\n",
    "    # Optional: Wait for completion. Comment out this block to queue all\n",
    "    # update operations. You can then just wait for the batch to finish\n",
    "    # (e.g. check via the admin. panel)\n",
    "    job_id = response.json()[\"data\"][\"id\"]\n",
    "    job_url = status_url + f\"{job_id}/status/\"\n",
    "    job_status = \"NOT_FINISHED\"\n",
    "    while job_status != \"FINISHED\":\n",
    "        job_status = requests.get(job_url, auth=auth).json()[\"status\"]\n",
    "        time.sleep(wait)"
   ]
  },
  {
   "cell_type": "markdown",
   "id": "7bf6ea8f-d775-4ea1-b1e7-ada0c41c51ba",
   "metadata": {},
   "source": [
    "## 5. Update metadata"
   ]
  },
  {
   "cell_type": "code",
   "execution_count": null,
   "id": "4a2ad40b-0aa3-49cd-b391-8bd9badb92b6",
   "metadata": {},
   "outputs": [],
   "source": [
    "base_url = \"https://geonode.seabee.sigma2.no/api/v2/\"\n",
    "headers = {\"Authorization\": f\"Bearer {SETTINGS.GEONODE_TOKEN}\"}\n",
    "auth = (SETTINGS.GEOSERVER_USER, SETTINGS.GEONODE_PASSWORD)\n",
    "\n",
    "inv_fnames_dict = {y: x for x, y in fnames_dict.items()}\n",
    "search_path = os.path.join(cog_fold, \"*.tif\")\n",
    "flist = glob(search_path)\n",
    "for fpath in tqdm(flist):\n",
    "    fname = os.path.basename(fpath)\n",
    "    layer_name = os.path.splitext(fname)[0]\n",
    "\n",
    "    # Find resource ID\n",
    "    filter_url = base_url + f\"resources?search={layer_name}&search_fields=title\"\n",
    "    response = requests.request(\"GET\", filter_url, headers=headers)\n",
    "    response.raise_for_status()\n",
    "    data = response.json()\n",
    "    assert data[\"total\"] == 1, f\"More than one dataset found with title '{layer_name}'.\"\n",
    "    dataset_id = data[\"resources\"][0][\"pk\"]\n",
    "\n",
    "    # Extract metadata from names with format:\n",
    "    #    project_region_area_org_spec_date-time.tif\n",
    "    project, area, ns, org, bands, date = layer_name.split(\"_\")\n",
    "    date = dt.datetime.strptime(date, \"%Y%m%d-%H%M\")\n",
    "    orig_fname = inv_fnames_dict[fname]\n",
    "    abstract = (\n",
    "        f\"{bands} mosaic collected by {org} for the {project} project at {area} {ns} on {date}.\"\n",
    "        f\"<br><br><b>MinIO file name:</b> {orig_fname}.\"\n",
    "    )\n",
    "\n",
    "    # Update metadata\n",
    "    data = {\n",
    "        \"abstract\": abstract,\n",
    "        \"date\": date.isoformat(),\n",
    "        \"date_type\": \"creation\",\n",
    "        \"attribution\": \"SeaBee\",\n",
    "    }\n",
    "    update_url = base_url + f\"datasets/{dataset_id}\"\n",
    "    response = requests.patch(update_url, auth=auth, json=data)\n",
    "    response.raise_for_status()"
   ]
  }
 ],
 "metadata": {
  "kernelspec": {
   "display_name": "Python 3 (ipykernel)",
   "language": "python",
   "name": "python3"
  },
  "language_info": {
   "codemirror_mode": {
    "name": "ipython",
    "version": 3
   },
   "file_extension": ".py",
   "mimetype": "text/x-python",
   "name": "python",
   "nbconvert_exporter": "python",
   "pygments_lexer": "ipython3",
   "version": "3.10.6"
  }
 },
 "nbformat": 4,
 "nbformat_minor": 5
}
